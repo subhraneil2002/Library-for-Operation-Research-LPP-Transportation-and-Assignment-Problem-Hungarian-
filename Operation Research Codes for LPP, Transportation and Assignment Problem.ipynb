{
 "cells": [
  {
   "cell_type": "markdown",
   "id": "9b47e45f",
   "metadata": {},
   "source": [
    "<div style=\"display: flex; justify-content: center; align-items: center; height: 150px; background-color: #f3f4f6; border: 2px solid #4CAF50; border-radius: 10px; padding: 10px; text-align: center; box-shadow: 0px 0px 10px rgba(0, 0, 0, 0.1);\">\n",
    "    <div style=\"text-align: center;\">\n",
    "        <h1 style=\"color: #4CAF50; margin: 10px; font-size: 2.5em;\">Assignment | Operation Research</h1>\n",
    "    </div>\n",
    "    <div style=\"text-align: left; margin-left: 20px;\">\n",
    "        <h3 style=\"color: #333; margin: 10px 0 0;\">Name: Subhraneil Das</h3>\n",
    "        <h3 style=\"color: #333; margin: 5px 0 0;\">PRN: 23070243053</h3>\n",
    "    </div>\n",
    "</div>"
   ]
  },
  {
   "cell_type": "markdown",
   "id": "7743f6ef",
   "metadata": {},
   "source": [
    "## Importing Libraries"
   ]
  },
  {
   "cell_type": "code",
   "execution_count": 4,
   "id": "09bff5a7",
   "metadata": {},
   "outputs": [],
   "source": [
    "import numpy as np\n",
    "import pandas as pd\n",
    "from pulp import LpMaximize, LpProblem, LpVariable"
   ]
  },
  {
   "cell_type": "markdown",
   "id": "443c6b8d",
   "metadata": {},
   "source": [
    "## A. Linear Programming Problem "
   ]
  },
  {
   "cell_type": "markdown",
   "id": "d0ee4f80",
   "metadata": {},
   "source": [
    "Q. Carpenter manufactures two products. Product A generates a profit of Rs.23, B generates profit of Rs.10. It takes 2 hours to produce Product A and 0.8 to produce Product B. He can't spend more than 25 hours per week and total number of units for A & B cannot be greater than 20. Find the number of units of A & B to maximize his profit."
   ]
  },
  {
   "cell_type": "code",
   "execution_count": 5,
   "id": "5f9aae32",
   "metadata": {},
   "outputs": [
    {
     "name": "stdout",
     "output_type": "stream",
     "text": [
      "Optimal number of units of Product A: 7.5\n",
      "Optimal number of units of Product B: 12.5\n",
      "Maximum profit: 297.5\n"
     ]
    }
   ],
   "source": [
    "# Create a linear programming maximization problem\n",
    "prob = LpProblem(\"Carpenter_Profit_Maximization\", LpMaximize)\n",
    "\n",
    "# Decision variables\n",
    "x1 = LpVariable('x1', lowBound=0, cat='Continuous')  # Number of product A\n",
    "x2 = LpVariable('x2', lowBound=0, cat='Continuous')  # Number of product B\n",
    "\n",
    "# Objective function (maximize profit)\n",
    "prob += 23 * x1 + 10 * x2, \"Profit\"\n",
    "\n",
    "# Constraints\n",
    "prob += 2 * x1 + 0.8 * x2 <= 25, \"TimeConstraint\"\n",
    "prob += x1 + x2 <= 20, \"ProductionConstraint\"\n",
    "\n",
    "# Solve the problem\n",
    "prob.solve()\n",
    "\n",
    "# Get the results\n",
    "optimal_x1 = x1.varValue\n",
    "optimal_x2 = x2.varValue\n",
    "optimal_profit = prob.objective.value()\n",
    "\n",
    "print(f\"Optimal number of units of Product A: {optimal_x1}\")\n",
    "print(f\"Optimal number of units of Product B: {optimal_x2}\")\n",
    "print(f\"Maximum profit: {optimal_profit}\")"
   ]
  },
  {
   "cell_type": "markdown",
   "id": "73865e8f",
   "metadata": {},
   "source": [
    "## B. Transportation Problem"
   ]
  },
  {
   "cell_type": "markdown",
   "id": "0cf28fe1",
   "metadata": {},
   "source": [
    "### 1. North-West Method"
   ]
  },
  {
   "cell_type": "code",
   "execution_count": 9,
   "id": "e67402a7",
   "metadata": {},
   "outputs": [
    {
     "name": "stdout",
     "output_type": "stream",
     "text": [
      "North-West Corner Method Allocation:\n",
      "[250, 50, 0, 0]\n",
      "[0, 300, 100, 0]\n",
      "[0, 0, 300, 200]\n",
      "\n",
      "Total Transportation Cost: 4400\n"
     ]
    }
   ],
   "source": [
    "def north_west_corner_with_cost(cost_matrix, supply, demand):\n",
    "    n, m = len(supply), len(demand)\n",
    "    allocation = [[0] * m for _ in range(n)]\n",
    "    \n",
    "    i = j = 0\n",
    "    total_cost = 0\n",
    "    while i < n and j < m:\n",
    "        alloc = min(supply[i], demand[j])\n",
    "        allocation[i][j] = alloc\n",
    "        total_cost += alloc * cost_matrix[i][j]  # Calculate the cost\n",
    "        supply[i] -= alloc\n",
    "        demand[j] -= alloc\n",
    "        \n",
    "        if supply[i] == 0:\n",
    "            i += 1\n",
    "        if demand[j] == 0:\n",
    "            j += 1\n",
    "    \n",
    "    return allocation, total_cost\n",
    "\n",
    "# Example cost matrix, supply, and demand\n",
    "cost_matrix = [\n",
    "    [3, 1, 7, 4],\n",
    "    [2, 6, 5, 9],\n",
    "    [8, 3, 3, 2]\n",
    "]\n",
    "supply = [300, 400, 500]  # supply\n",
    "demand = [250, 350, 400, 200]  # demand\n",
    "\n",
    "# Solving the transportation problem\n",
    "allocation, total_cost = north_west_corner_with_cost(cost_matrix, supply, demand)\n",
    "\n",
    "print(\"North-West Corner Method Allocation:\")\n",
    "for row in allocation:\n",
    "    print(row)\n",
    "\n",
    "print(\"\\nTotal Transportation Cost:\", total_cost)\n"
   ]
  },
  {
   "cell_type": "markdown",
   "id": "e7358a16",
   "metadata": {},
   "source": [
    "### 2. Least Cost Method"
   ]
  },
  {
   "cell_type": "code",
   "execution_count": 12,
   "id": "d7843203",
   "metadata": {},
   "outputs": [
    {
     "name": "stdout",
     "output_type": "stream",
     "text": [
      "Least Cost Method Allocation:\n",
      "[0, 300, 0, 0]\n",
      "[250, 0, 150, 0]\n",
      "[0, 50, 250, 200]\n",
      "\n",
      "Total Transportation Cost: 2850\n"
     ]
    }
   ],
   "source": [
    "def least_cost_method(cost, supply, demand):\n",
    "    n, m = len(supply), len(demand)\n",
    "    allocation = [[0] * m for _ in range(n)]\n",
    "    total_cost = 0  # Initialize the total cost\n",
    "    \n",
    "    while sum(supply) > 0 and sum(demand) > 0:\n",
    "        min_cost = float('inf')\n",
    "        min_i = min_j = 0\n",
    "        \n",
    "        # Find the minimum cost cell\n",
    "        for i in range(n):\n",
    "            for j in range(m):\n",
    "                if supply[i] > 0 and demand[j] > 0 and cost[i][j] < min_cost:\n",
    "                    min_cost = cost[i][j]\n",
    "                    min_i, min_j = i, j\n",
    "        \n",
    "        # Allocate as much as possible\n",
    "        alloc = min(supply[min_i], demand[min_j])\n",
    "        allocation[min_i][min_j] = alloc\n",
    "        total_cost += alloc * min_cost  # Calculate and add to the total cost\n",
    "        supply[min_i] -= alloc\n",
    "        demand[min_j] -= alloc\n",
    "    \n",
    "    return allocation, total_cost\n",
    "\n",
    "# Example cost matrix, supply, and demand\n",
    "cost_matrix = [\n",
    "    [3, 1, 7, 4],\n",
    "    [2, 6, 5, 9],\n",
    "    [8, 3, 3, 2]\n",
    "]\n",
    "supply = [300, 400, 500]  # supply\n",
    "demand = [250, 350, 400, 200]  # demand\n",
    "\n",
    "allocation, total_cost = least_cost_method(cost_matrix, supply, demand)\n",
    "\n",
    "print(\"Least Cost Method Allocation:\")\n",
    "for row in allocation:\n",
    "    print(row)\n",
    "\n",
    "print(\"\\nTotal Transportation Cost:\", total_cost)"
   ]
  },
  {
   "cell_type": "markdown",
   "id": "68271de8",
   "metadata": {},
   "source": [
    "### 3. Vogel's Approximation Method"
   ]
  },
  {
   "cell_type": "markdown",
   "id": "d5362e66",
   "metadata": {},
   "source": [
    "Defining the supply demand and respective costs"
   ]
  },
  {
   "cell_type": "code",
   "execution_count": 2,
   "id": "0c11234d",
   "metadata": {},
   "outputs": [],
   "source": [
    "grid = [[3, 1, 7, 4], [2, 6, 5, 9], [8, 3, 3, 2]]  # table\n",
    "supply = [300, 400, 500]  # supply\n",
    "demand = [250, 350, 400, 200]  # demand\n",
    "INF = 10**3\n",
    "n = len(grid)\n",
    "m = len(grid[0])\n",
    "ans = 0"
   ]
  },
  {
   "cell_type": "markdown",
   "id": "cbaebd8a",
   "metadata": {},
   "source": [
    "Function to find the feasible solution"
   ]
  },
  {
   "cell_type": "code",
   "execution_count": 3,
   "id": "a9ff658a",
   "metadata": {},
   "outputs": [
    {
     "name": "stdout",
     "output_type": "stream",
     "text": [
      "The basic feasible solution using Vogel's Approximation Method is: 2850\n"
     ]
    }
   ],
   "source": [
    "# hepler function for finding the row difference and the column difference\n",
    "def findDiff(grid):\n",
    "    rowDiff = []\n",
    "    colDiff = []\n",
    "    for i in range(len(grid)):\n",
    "        arr = grid[i][:]\n",
    "        arr.sort()\n",
    "        rowDiff.append(arr[1]-arr[0])\n",
    "    col = 0\n",
    "    while col < len(grid[0]):\n",
    "        arr = []\n",
    "        for i in range(len(grid)):\n",
    "            arr.append(grid[i][col])\n",
    "        arr.sort()\n",
    "        col += 1\n",
    "        colDiff.append(arr[1]-arr[0])\n",
    "    return rowDiff, colDiff\n",
    "\n",
    "\n",
    "# loop runs until both the demand and the supply is exhausted\n",
    "while max(supply) != 0 or max(demand) != 0:\n",
    "    # finding the row and col difference\n",
    "    row, col = findDiff(grid)\n",
    "    # finding the maxiumum element in row difference array\n",
    "    maxi1 = max(row)\n",
    "    # finding the maxiumum element in col difference array\n",
    "    maxi2 = max(col)\n",
    "\n",
    "    # if the row diff max element is greater than or equal to col diff max element\n",
    "    if(maxi1 >= maxi2):\n",
    "        for ind, val in enumerate(row):\n",
    "            if(val == maxi1):\n",
    "                # finding the minimum element in grid index where the maximum was found in the row difference\n",
    "                mini1 = min(grid[ind])\n",
    "                for ind2, val2 in enumerate(grid[ind]):\n",
    "                    if(val2 == mini1):\n",
    "                        # calculating the min of supply and demand in that row and col\n",
    "                        mini2 = min(supply[ind], demand[ind2])\n",
    "                        ans += mini2 * mini1\n",
    "                        # subtracting the min from the supply and demand\n",
    "                        supply[ind] -= mini2\n",
    "                        demand[ind2] -= mini2\n",
    "                        # if demand is smaller then the entire col is assigned max value so that the col is eliminated for the next iteration\n",
    "                        if(demand[ind2] == 0):\n",
    "                            for r in range(n):\n",
    "                                grid[r][ind2] = INF\n",
    "                        # if supply is smaller then the entire row is assigned max value so that the row is eliminated for the next iteration\n",
    "                        else:\n",
    "                            grid[ind] = [INF for i in range(m)]\n",
    "                        break\n",
    "                break\n",
    "    # if the row diff max element is greater than col diff max element\n",
    "    else:\n",
    "        for ind, val in enumerate(col):\n",
    "            if(val == maxi2):\n",
    "                # finding the minimum element in grid index where the maximum was found in the col difference\n",
    "                mini1 = INF\n",
    "                for j in range(n):\n",
    "                    mini1 = min(mini1, grid[j][ind])\n",
    "\n",
    "                for ind2 in range(n):\n",
    "                    val2 = grid[ind2][ind]\n",
    "                    if val2 == mini1:\n",
    "                        # calculating the min of supply and demand in that row and col\n",
    "                        mini2 = min(supply[ind2], demand[ind])\n",
    "                        ans += mini2 * mini1\n",
    "                        # subtracting the min from the supply and demand\n",
    "                        supply[ind2] -= mini2\n",
    "                        demand[ind] -= mini2\n",
    "                        # if demand is smaller then the entire col is assigned max value so that the col is eliminated for the next iteration\n",
    "                        if(demand[ind] == 0):\n",
    "                            for r in range(n):\n",
    "                                grid[r][ind] = INF\n",
    "                        # if supply is smaller then the entire row is assigned max value so that the row is eliminated for the next iteration\n",
    "                        else:\n",
    "                            grid[ind2] = [INF for i in range(m)]\n",
    "                        break\n",
    "                break\n",
    "\n",
    "print(\"The basic feasible solution using Vogel's Approximation Method is:\", ans)"
   ]
  },
  {
   "cell_type": "markdown",
   "id": "786a6cc0",
   "metadata": {},
   "source": [
    "## C. Assignment Problem (Hungarian Method)"
   ]
  },
  {
   "cell_type": "code",
   "execution_count": 7,
   "id": "af46c4c2",
   "metadata": {},
   "outputs": [
    {
     "name": "stdout",
     "output_type": "stream",
     "text": [
      "Optimal assignment pairs: [(0, 1), (1, 3), (2, 0), (3, 2)]\n",
      "Total minimum cost using Assignment Problem: 380\n"
     ]
    }
   ],
   "source": [
    "from scipy.optimize import linear_sum_assignment\n",
    "\n",
    "# Example cost matrix\n",
    "cost_matrix = np.array([\n",
    "    [120, 100, 80, 150],\n",
    "    [100, 85, 70, 115],\n",
    "    [90, 100, 80, 140],\n",
    "    [95, 120, 75, 180]\n",
    "])\n",
    "\n",
    "# Use SciPy's built-in Hungarian method\n",
    "row_ind, col_ind = linear_sum_assignment(cost_matrix)\n",
    "\n",
    "# Display the results\n",
    "print(\"Optimal assignment pairs:\", list(zip(row_ind, col_ind)))\n",
    "print(\"Total minimum cost using Assignment Problem:\", cost_matrix[row_ind, col_ind].sum())"
   ]
  },
  {
   "cell_type": "code",
   "execution_count": null,
   "id": "90c79d5b",
   "metadata": {},
   "outputs": [],
   "source": []
  }
 ],
 "metadata": {
  "kernelspec": {
   "display_name": "Python 3 (ipykernel)",
   "language": "python",
   "name": "python3"
  },
  "language_info": {
   "codemirror_mode": {
    "name": "ipython",
    "version": 3
   },
   "file_extension": ".py",
   "mimetype": "text/x-python",
   "name": "python",
   "nbconvert_exporter": "python",
   "pygments_lexer": "ipython3",
   "version": "3.11.5"
  }
 },
 "nbformat": 4,
 "nbformat_minor": 5
}
